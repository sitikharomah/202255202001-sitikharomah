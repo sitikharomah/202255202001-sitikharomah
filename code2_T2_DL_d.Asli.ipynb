{
  "cells": [
    {
      "cell_type": "markdown",
      "metadata": {
        "id": "view-in-github",
        "colab_type": "text"
      },
      "source": [
        "<a href=\"https://colab.research.google.com/github/sitikharomah/202255202001-sitikharomah/blob/master/code2_T2_DL_d.Asli.ipynb\" target=\"_parent\"><img src=\"https://colab.research.google.com/assets/colab-badge.svg\" alt=\"Open In Colab\"/></a>"
      ]
    },
    {
      "cell_type": "code",
      "execution_count": 1,
      "metadata": {
        "id": "gmmttm75G_7M"
      },
      "outputs": [],
      "source": [
        "# Import Necessary Libraries\n",
        "import tensorflow as tf\n",
        "from tensorflow.keras.preprocessing.image import ImageDataGenerator\n",
        "from tensorflow.keras.applications import VGG16\n",
        "from tensorflow.keras.models import Sequential\n",
        "from tensorflow.keras.layers import Dense, Flatten, Dropout\n",
        "from sklearn.metrics import confusion_matrix, classification_report\n",
        "import matplotlib.pyplot as plt\n",
        "import seaborn as sns\n",
        "import numpy as np\n",
        "import pandas as pd\n",
        "import os\n",
        "# Import the train_test_split function\n",
        "from sklearn.model_selection import train_test_split"
      ]
    },
    {
      "cell_type": "code",
      "execution_count": 2,
      "metadata": {
        "colab": {
          "base_uri": "https://localhost:8080/"
        },
        "id": "HeXQFAE9G_4V",
        "outputId": "27d82895-c7b7-427b-c806-16e0f01e478a"
      },
      "outputs": [
        {
          "output_type": "stream",
          "name": "stdout",
          "text": [
            "Found 952 images belonging to 4 classes.\n",
            "Found 237 images belonging to 4 classes.\n"
          ]
        }
      ],
      "source": [
        "# Load and Transform Data\n",
        "data_dir = '/content/drive/MyDrive/DATASET TELUR '  # Ganti <nama_folder> dengan nama folder Anda\n",
        "batch_size = 32\n",
        "\n",
        "train_datagen = ImageDataGenerator(rescale=1./255,\n",
        "                                    validation_split=0.2)  # 20% untuk validasi\n",
        "\n",
        "train_generator = train_datagen.flow_from_directory(data_dir,\n",
        "                                                    target_size=(224, 224),\n",
        "                                                    batch_size=batch_size,\n",
        "                                                    class_mode='categorical',\n",
        "                                                    subset='training')\n",
        "\n",
        "validation_generator = train_datagen.flow_from_directory(data_dir,\n",
        "                                                         target_size=(224, 224),\n",
        "                                                         batch_size=batch_size,\n",
        "                                                         class_mode='categorical',\n",
        "                                                         subset='validation')"
      ]
    },
    {
      "cell_type": "code",
      "source": [
        "# Get class names from the train generator\n",
        "class_names = train_generator.class_indices\n",
        "\n",
        "# Create a list of file paths and their corresponding labels\n",
        "file_paths = []\n",
        "labels = []\n",
        "\n",
        "for class_name in class_names:\n",
        "    class_dir = os.path.join(data_dir, class_name)\n",
        "    for file_name in os.listdir(class_dir):\n",
        "        file_paths.append(os.path.join(class_dir, file_name))\n",
        "        labels.append(class_names[class_name])\n",
        "\n",
        "# Create a DataFrame from the file paths and labels\n",
        "df = pd.DataFrame({'file_path': file_paths, 'label': labels})"
      ],
      "metadata": {
        "id": "QVimBQma_bol"
      },
      "execution_count": 4,
      "outputs": []
    },
    {
      "cell_type": "code",
      "execution_count": 5,
      "metadata": {
        "colab": {
          "base_uri": "https://localhost:8080/"
        },
        "id": "nd_DGjrLG_1I",
        "outputId": "2162085c-8e07-414b-b77c-a350dae7ac78"
      },
      "outputs": [
        {
          "output_type": "stream",
          "name": "stdout",
          "text": [
            "Train length: 570 Validation length: 143 Test length: 476\n"
          ]
        }
      ],
      "source": [
        "# Splitting the data\n",
        "train_df, test_df = train_test_split(df, train_size=0.6, shuffle=True, random_state=8)\n",
        "train_df, valid_df = train_test_split(train_df, train_size=0.8, shuffle=True, random_state=8)\n",
        "\n",
        "# Check the lengths\n",
        "print('Train length:', len(train_df), 'Validation length:', len(valid_df), 'Test length:', len(test_df))"
      ]
    },
    {
      "cell_type": "code",
      "source": [
        "# Data Augmentation\n",
        "height, width, channels = 128, 128, 3\n",
        "batch_size = 64\n",
        "\n",
        "train_datagen = ImageDataGenerator(\n",
        "    rescale=1./255,\n",
        "    rotation_range=20,\n",
        "    width_shift_range=0.2,\n",
        "    height_shift_range=0.2,\n",
        "    shear_range=0.2,\n",
        "    zoom_range=0.2,\n",
        "    horizontal_flip=True,\n",
        "    fill_mode='nearest'\n",
        ")\n",
        "\n",
        "\n",
        "# Convert 'label' column to string type\n",
        "train_df['label'] = train_df['label'].astype(str)\n",
        "valid_df['label'] = valid_df['label'].astype(str)\n",
        "test_df['label'] = test_df['label'].astype(str)\n",
        "\n",
        "\n",
        "# Correct x_col to 'file_path'\n",
        "train_gen = train_datagen.flow_from_dataframe(\n",
        "    train_df, x_col='file_path', y_col='label', target_size=(height, width), # Corrected x_col\n",
        "    class_mode='categorical', color_mode='rgb', shuffle=True, batch_size=batch_size\n",
        ")\n",
        "\n",
        "valid_gen = ImageDataGenerator(rescale=1./255).flow_from_dataframe(\n",
        "    valid_df, x_col='file_path', y_col='label', target_size=(height, width), # Corrected x_col\n",
        "    class_mode='categorical', color_mode='rgb', shuffle=False, batch_size=batch_size\n",
        ")\n",
        "\n",
        "test_gen = ImageDataGenerator(rescale=1./255).flow_from_dataframe(\n",
        "    test_df, x_col='file_path', y_col='label', target_size=(height, width), # Corrected x_col\n",
        "    class_mode='categorical', color_mode='rgb', shuffle=False, batch_size=batch_size\n",
        ")"
      ],
      "metadata": {
        "id": "V4u4Gt8CBQO5",
        "outputId": "9118d586-4dd7-436b-8fc0-a2b9f298217b",
        "colab": {
          "base_uri": "https://localhost:8080/"
        }
      },
      "execution_count": 12,
      "outputs": [
        {
          "output_type": "stream",
          "name": "stdout",
          "text": [
            "Found 570 validated image filenames belonging to 4 classes.\n",
            "Found 143 validated image filenames belonging to 4 classes.\n",
            "Found 476 validated image filenames belonging to 4 classes.\n"
          ]
        }
      ]
    },
    {
      "cell_type": "code",
      "execution_count": 13,
      "metadata": {
        "colab": {
          "base_uri": "https://localhost:8080/"
        },
        "id": "cEwFVX_dG_u4",
        "outputId": "001510c7-5b82-48e4-8ab4-1ff4a36556e1"
      },
      "outputs": [
        {
          "output_type": "stream",
          "name": "stdout",
          "text": [
            "Downloading data from https://storage.googleapis.com/tensorflow/keras-applications/vgg16/vgg16_weights_tf_dim_ordering_tf_kernels_notop.h5\n",
            "\u001b[1m58889256/58889256\u001b[0m \u001b[32m━━━━━━━━━━━━━━━━━━━━\u001b[0m\u001b[37m\u001b[0m \u001b[1m0s\u001b[0m 0us/step\n"
          ]
        }
      ],
      "source": [
        "# Data Preprocessing and Model Definition\n",
        "base_model = VGG16(weights='imagenet', include_top=False, input_shape=(height, width, channels))\n",
        "base_model.trainable = False  # Freeze the base model\n",
        "\n",
        "model = Sequential([\n",
        "    base_model,\n",
        "    Flatten(),\n",
        "    Dense(256, activation='relu'),\n",
        "    Dropout(0.5),\n",
        "    Dense(len(train_gen.class_indices), activation='softmax')\n",
        "])\n",
        "\n",
        "model.compile(optimizer='adam', loss='categorical_crossentropy', metrics=['accuracy'])"
      ]
    },
    {
      "cell_type": "code",
      "execution_count": 16,
      "metadata": {
        "colab": {
          "base_uri": "https://localhost:8080/"
        },
        "id": "jO_tAJgCG_rx",
        "outputId": "52bdec32-0c0a-4489-9987-4eb7829c3fa4"
      },
      "outputs": [
        {
          "metadata": {
            "tags": null
          },
          "name": "stdout",
          "output_type": "stream",
          "text": [
            "Found 570 validated image filenames belonging to 4 classes.\n"
          ]
        },
        {
          "metadata": {
            "tags": null
          },
          "name": "stderr",
          "output_type": "stream",
          "text": [
            "/usr/local/lib/python3.11/dist-packages/keras/src/trainers/data_adapters/py_dataset_adapter.py:121: UserWarning: Your `PyDataset` class should call `super().__init__(**kwargs)` in its constructor. `**kwargs` can include `workers`, `use_multiprocessing`, `max_queue_size`. Do not pass these arguments to `fit()`, as they will be ignored.\n",
            "  self._warn_if_super_not_called()\n"
          ]
        },
        {
          "metadata": {
            "tags": null
          },
          "name": "stdout",
          "output_type": "stream",
          "text": [
            "Epoch 1/50\n",
            "\u001b[1m8/8\u001b[0m \u001b[32m━━━━━━━━━━━━━━━━━━━━\u001b[0m\u001b[37m\u001b[0m \u001b[1m359s\u001b[0m 44s/step - accuracy: 0.3668 - loss: 2.0095 - val_accuracy: 0.4453 - val_loss: 0.9525\n",
            "Epoch 2/50\n",
            "\u001b[1m1/8\u001b[0m \u001b[32m━━\u001b[0m\u001b[37m━━━━━━━━━━━━━━━━━━\u001b[0m \u001b[1m1:35\u001b[0m 14s/step - accuracy: 0.6562 - loss: 0.7963"
          ]
        },
        {
          "metadata": {
            "tags": null
          },
          "name": "stderr",
          "output_type": "stream",
          "text": [
            "/usr/local/lib/python3.11/dist-packages/keras/src/trainers/epoch_iterator.py:107: UserWarning: Your input ran out of data; interrupting training. Make sure that your dataset or generator can generate at least `steps_per_epoch * epochs` batches. You may need to use the `.repeat()` function when building your dataset.\n",
            "  self._interrupted_warning()\n"
          ]
        },
        {
          "output_type": "stream",
          "name": "stdout",
          "text": [
            "\u001b[1m8/8\u001b[0m \u001b[32m━━━━━━━━━━━━━━━━━━━━\u001b[0m\u001b[37m\u001b[0m \u001b[1m82s\u001b[0m 10s/step - accuracy: 0.6562 - loss: 0.7963 - val_accuracy: 0.6875 - val_loss: 0.5513\n",
            "Epoch 3/50\n",
            "\u001b[1m8/8\u001b[0m \u001b[32m━━━━━━━━━━━━━━━━━━━━\u001b[0m\u001b[37m\u001b[0m \u001b[1m226s\u001b[0m 28s/step - accuracy: 0.7613 - loss: 0.5924 - val_accuracy: 0.9688 - val_loss: 0.1893\n",
            "Epoch 4/50\n",
            "\u001b[1m8/8\u001b[0m \u001b[32m━━━━━━━━━━━━━━━━━━━━\u001b[0m\u001b[37m\u001b[0m \u001b[1m53s\u001b[0m 6s/step - accuracy: 0.8594 - loss: 0.3532 - val_accuracy: 0.9844 - val_loss: 0.1798\n",
            "Epoch 5/50\n",
            "\u001b[1m8/8\u001b[0m \u001b[32m━━━━━━━━━━━━━━━━━━━━\u001b[0m\u001b[37m\u001b[0m \u001b[1m262s\u001b[0m 27s/step - accuracy: 0.9024 - loss: 0.2707 - val_accuracy: 0.9766 - val_loss: 0.0900\n",
            "Epoch 6/50\n",
            "\u001b[1m8/8\u001b[0m \u001b[32m━━━━━━━━━━━━━━━━━━━━\u001b[0m\u001b[37m\u001b[0m \u001b[1m52s\u001b[0m 6s/step - accuracy: 0.9062 - loss: 0.2293 - val_accuracy: 0.9688 - val_loss: 0.0897\n",
            "Epoch 7/50\n",
            "\u001b[1m8/8\u001b[0m \u001b[32m━━━━━━━━━━━━━━━━━━━━\u001b[0m\u001b[37m\u001b[0m \u001b[1m265s\u001b[0m 26s/step - accuracy: 0.9465 - loss: 0.1733 - val_accuracy: 0.9766 - val_loss: 0.0621\n",
            "Epoch 8/50\n",
            "\u001b[1m8/8\u001b[0m \u001b[32m━━━━━━━━━━━━━━━━━━━━\u001b[0m\u001b[37m\u001b[0m \u001b[1m74s\u001b[0m 9s/step - accuracy: 0.9375 - loss: 0.1847 - val_accuracy: 0.9766 - val_loss: 0.0657\n",
            "Epoch 9/50\n",
            "\u001b[1m8/8\u001b[0m \u001b[32m━━━━━━━━━━━━━━━━━━━━\u001b[0m\u001b[37m\u001b[0m \u001b[1m261s\u001b[0m 28s/step - accuracy: 0.9528 - loss: 0.1477 - val_accuracy: 0.9922 - val_loss: 0.0433\n",
            "Epoch 10/50\n",
            "\u001b[1m8/8\u001b[0m \u001b[32m━━━━━━━━━━━━━━━━━━━━\u001b[0m\u001b[37m\u001b[0m \u001b[1m52s\u001b[0m 6s/step - accuracy: 0.9688 - loss: 0.1130 - val_accuracy: 1.0000 - val_loss: 0.0407\n",
            "Epoch 11/50\n",
            "\u001b[1m8/8\u001b[0m \u001b[32m━━━━━━━━━━━━━━━━━━━━\u001b[0m\u001b[37m\u001b[0m \u001b[1m251s\u001b[0m 26s/step - accuracy: 0.9706 - loss: 0.0995 - val_accuracy: 0.9844 - val_loss: 0.0423\n",
            "Epoch 12/50\n",
            "\u001b[1m8/8\u001b[0m \u001b[32m━━━━━━━━━━━━━━━━━━━━\u001b[0m\u001b[37m\u001b[0m \u001b[1m53s\u001b[0m 6s/step - accuracy: 0.9688 - loss: 0.1014 - val_accuracy: 0.9922 - val_loss: 0.0409\n",
            "Epoch 13/50\n",
            "\u001b[1m8/8\u001b[0m \u001b[32m━━━━━━━━━━━━━━━━━━━━\u001b[0m\u001b[37m\u001b[0m \u001b[1m198s\u001b[0m 25s/step - accuracy: 0.9569 - loss: 0.1190 - val_accuracy: 0.9922 - val_loss: 0.0391\n",
            "Epoch 14/50\n",
            "\u001b[1m8/8\u001b[0m \u001b[32m━━━━━━━━━━━━━━━━━━━━\u001b[0m\u001b[37m\u001b[0m \u001b[1m81s\u001b[0m 10s/step - accuracy: 1.0000 - loss: 0.0488 - val_accuracy: 0.9922 - val_loss: 0.0377\n",
            "Epoch 15/50\n",
            "\u001b[1m8/8\u001b[0m \u001b[32m━━━━━━━━━━━━━━━━━━━━\u001b[0m\u001b[37m\u001b[0m \u001b[1m263s\u001b[0m 28s/step - accuracy: 0.9765 - loss: 0.0775 - val_accuracy: 0.9922 - val_loss: 0.0281\n",
            "Epoch 16/50\n",
            "\u001b[1m8/8\u001b[0m \u001b[32m━━━━━━━━━━━━━━━━━━━━\u001b[0m\u001b[37m\u001b[0m \u001b[1m82s\u001b[0m 10s/step - accuracy: 1.0000 - loss: 0.0231 - val_accuracy: 0.9922 - val_loss: 0.0259\n",
            "Epoch 17/50\n",
            "\u001b[1m8/8\u001b[0m \u001b[32m━━━━━━━━━━━━━━━━━━━━\u001b[0m\u001b[37m\u001b[0m \u001b[1m196s\u001b[0m 24s/step - accuracy: 0.9804 - loss: 0.0662 - val_accuracy: 1.0000 - val_loss: 0.0241\n",
            "Epoch 18/50\n",
            "\u001b[1m8/8\u001b[0m \u001b[32m━━━━━━━━━━━━━━━━━━━━\u001b[0m\u001b[37m\u001b[0m \u001b[1m82s\u001b[0m 10s/step - accuracy: 0.9531 - loss: 0.0679 - val_accuracy: 1.0000 - val_loss: 0.0213\n",
            "Epoch 19/50\n",
            "\u001b[1m8/8\u001b[0m \u001b[32m━━━━━━━━━━━━━━━━━━━━\u001b[0m\u001b[37m\u001b[0m \u001b[1m205s\u001b[0m 26s/step - accuracy: 0.9826 - loss: 0.0566 - val_accuracy: 1.0000 - val_loss: 0.0231\n",
            "Epoch 20/50\n",
            "\u001b[1m8/8\u001b[0m \u001b[32m━━━━━━━━━━━━━━━━━━━━\u001b[0m\u001b[37m\u001b[0m \u001b[1m65s\u001b[0m 6s/step - accuracy: 1.0000 - loss: 0.0563 - val_accuracy: 1.0000 - val_loss: 0.0236\n",
            "Epoch 21/50\n",
            "\u001b[1m8/8\u001b[0m \u001b[32m━━━━━━━━━━━━━━━━━━━━\u001b[0m\u001b[37m\u001b[0m \u001b[1m201s\u001b[0m 25s/step - accuracy: 0.9868 - loss: 0.0630 - val_accuracy: 0.9766 - val_loss: 0.0376\n",
            "Epoch 22/50\n",
            "\u001b[1m8/8\u001b[0m \u001b[32m━━━━━━━━━━━━━━━━━━━━\u001b[0m\u001b[37m\u001b[0m \u001b[1m82s\u001b[0m 10s/step - accuracy: 0.9828 - loss: 0.0467 - val_accuracy: 0.9766 - val_loss: 0.0498\n",
            "Epoch 23/50\n",
            "\u001b[1m8/8\u001b[0m \u001b[32m━━━━━━━━━━━━━━━━━━━━\u001b[0m\u001b[37m\u001b[0m \u001b[1m201s\u001b[0m 25s/step - accuracy: 0.9900 - loss: 0.0410 - val_accuracy: 1.0000 - val_loss: 0.0168\n",
            "Epoch 24/50\n",
            "\u001b[1m8/8\u001b[0m \u001b[32m━━━━━━━━━━━━━━━━━━━━\u001b[0m\u001b[37m\u001b[0m \u001b[1m90s\u001b[0m 11s/step - accuracy: 1.0000 - loss: 0.0151 - val_accuracy: 1.0000 - val_loss: 0.0160\n",
            "Epoch 25/50\n",
            "\u001b[1m8/8\u001b[0m \u001b[32m━━━━━━━━━━━━━━━━━━━━\u001b[0m\u001b[37m\u001b[0m \u001b[1m255s\u001b[0m 33s/step - accuracy: 0.9877 - loss: 0.0437 - val_accuracy: 0.9766 - val_loss: 0.0334\n",
            "Epoch 26/50\n",
            "\u001b[1m8/8\u001b[0m \u001b[32m━━━━━━━━━━━━━━━━━━━━\u001b[0m\u001b[37m\u001b[0m \u001b[1m51s\u001b[0m 6s/step - accuracy: 1.0000 - loss: 0.0181 - val_accuracy: 0.9766 - val_loss: 0.0389\n",
            "Epoch 27/50\n",
            "\u001b[1m8/8\u001b[0m \u001b[32m━━━━━━━━━━━━━━━━━━━━\u001b[0m\u001b[37m\u001b[0m \u001b[1m203s\u001b[0m 25s/step - accuracy: 0.9808 - loss: 0.0437 - val_accuracy: 1.0000 - val_loss: 0.0123\n",
            "Epoch 28/50\n",
            "\u001b[1m8/8\u001b[0m \u001b[32m━━━━━━━━━━━━━━━━━━━━\u001b[0m\u001b[37m\u001b[0m \u001b[1m54s\u001b[0m 6s/step - accuracy: 0.9688 - loss: 0.0606 - val_accuracy: 1.0000 - val_loss: 0.0123\n",
            "Epoch 29/50\n",
            "\u001b[1m8/8\u001b[0m \u001b[32m━━━━━━━━━━━━━━━━━━━━\u001b[0m\u001b[37m\u001b[0m \u001b[1m202s\u001b[0m 25s/step - accuracy: 0.9872 - loss: 0.0431 - val_accuracy: 0.9766 - val_loss: 0.0368\n",
            "Epoch 30/50\n",
            "\u001b[1m8/8\u001b[0m \u001b[32m━━━━━━━━━━━━━━━━━━━━\u001b[0m\u001b[37m\u001b[0m \u001b[1m81s\u001b[0m 10s/step - accuracy: 1.0000 - loss: 0.0130 - val_accuracy: 0.9766 - val_loss: 0.0515\n",
            "Epoch 31/50\n",
            "\u001b[1m8/8\u001b[0m \u001b[32m━━━━━━━━━━━━━━━━━━━━\u001b[0m\u001b[37m\u001b[0m \u001b[1m262s\u001b[0m 28s/step - accuracy: 0.9835 - loss: 0.0395 - val_accuracy: 1.0000 - val_loss: 0.0160\n",
            "Epoch 32/50\n",
            "\u001b[1m8/8\u001b[0m \u001b[32m━━━━━━━━━━━━━━━━━━━━\u001b[0m\u001b[37m\u001b[0m \u001b[1m82s\u001b[0m 10s/step - accuracy: 0.9844 - loss: 0.0447 - val_accuracy: 1.0000 - val_loss: 0.0125\n",
            "Epoch 33/50\n",
            "\u001b[1m8/8\u001b[0m \u001b[32m━━━━━━━━━━━━━━━━━━━━\u001b[0m\u001b[37m\u001b[0m \u001b[1m202s\u001b[0m 24s/step - accuracy: 0.9809 - loss: 0.0540 - val_accuracy: 0.9766 - val_loss: 0.0568\n",
            "Epoch 34/50\n",
            "\u001b[1m8/8\u001b[0m \u001b[32m━━━━━━━━━━━━━━━━━━━━\u001b[0m\u001b[37m\u001b[0m \u001b[1m81s\u001b[0m 10s/step - accuracy: 1.0000 - loss: 0.0096 - val_accuracy: 0.9766 - val_loss: 0.0532\n",
            "Epoch 35/50\n",
            "\u001b[1m8/8\u001b[0m \u001b[32m━━━━━━━━━━━━━━━━━━━━\u001b[0m\u001b[37m\u001b[0m \u001b[1m196s\u001b[0m 25s/step - accuracy: 0.9838 - loss: 0.0464 - val_accuracy: 1.0000 - val_loss: 0.0111\n",
            "Epoch 36/50\n",
            "\u001b[1m8/8\u001b[0m \u001b[32m━━━━━━━━━━━━━━━━━━━━\u001b[0m\u001b[37m\u001b[0m \u001b[1m54s\u001b[0m 6s/step - accuracy: 0.9688 - loss: 0.0687 - val_accuracy: 1.0000 - val_loss: 0.0138\n",
            "Epoch 37/50\n",
            "\u001b[1m8/8\u001b[0m \u001b[32m━━━━━━━━━━━━━━━━━━━━\u001b[0m\u001b[37m\u001b[0m \u001b[1m262s\u001b[0m 32s/step - accuracy: 0.9826 - loss: 0.0447 - val_accuracy: 0.9922 - val_loss: 0.0214\n",
            "Epoch 38/50\n",
            "\u001b[1m8/8\u001b[0m \u001b[32m━━━━━━━━━━━━━━━━━━━━\u001b[0m\u001b[37m\u001b[0m \u001b[1m52s\u001b[0m 6s/step - accuracy: 0.9844 - loss: 0.0330 - val_accuracy: 1.0000 - val_loss: 0.0142\n",
            "Epoch 39/50\n",
            "\u001b[1m8/8\u001b[0m \u001b[32m━━━━━━━━━━━━━━━━━━━━\u001b[0m\u001b[37m\u001b[0m \u001b[1m216s\u001b[0m 24s/step - accuracy: 0.9926 - loss: 0.0288 - val_accuracy: 0.9922 - val_loss: 0.0269\n",
            "Epoch 40/50\n",
            "\u001b[1m8/8\u001b[0m \u001b[32m━━━━━━━━━━━━━━━━━━━━\u001b[0m\u001b[37m\u001b[0m \u001b[1m52s\u001b[0m 6s/step - accuracy: 1.0000 - loss: 0.0167 - val_accuracy: 0.9766 - val_loss: 0.0401\n",
            "Epoch 41/50\n",
            "\u001b[1m8/8\u001b[0m \u001b[32m━━━━━━━━━━━━━━━━━━━━\u001b[0m\u001b[37m\u001b[0m \u001b[1m203s\u001b[0m 25s/step - accuracy: 0.9854 - loss: 0.0472 - val_accuracy: 1.0000 - val_loss: 0.0126\n",
            "Epoch 42/50\n",
            "\u001b[1m8/8\u001b[0m \u001b[32m━━━━━━━━━━━━━━━━━━━━\u001b[0m\u001b[37m\u001b[0m \u001b[1m51s\u001b[0m 5s/step - accuracy: 0.9375 - loss: 0.1494 - val_accuracy: 1.0000 - val_loss: 0.0125\n",
            "Epoch 43/50\n",
            "\u001b[1m8/8\u001b[0m \u001b[32m━━━━━━━━━━━━━━━━━━━━\u001b[0m\u001b[37m\u001b[0m \u001b[1m204s\u001b[0m 25s/step - accuracy: 0.9872 - loss: 0.0452 - val_accuracy: 0.9766 - val_loss: 0.0381\n",
            "Epoch 44/50\n",
            "\u001b[1m8/8\u001b[0m \u001b[32m━━━━━━━━━━━━━━━━━━━━\u001b[0m\u001b[37m\u001b[0m \u001b[1m81s\u001b[0m 10s/step - accuracy: 1.0000 - loss: 0.0196 - val_accuracy: 0.9766 - val_loss: 0.0456\n",
            "Epoch 45/50\n",
            "\u001b[1m8/8\u001b[0m \u001b[32m━━━━━━━━━━━━━━━━━━━━\u001b[0m\u001b[37m\u001b[0m \u001b[1m194s\u001b[0m 24s/step - accuracy: 0.9907 - loss: 0.0362 - val_accuracy: 1.0000 - val_loss: 0.0084\n",
            "Epoch 46/50\n",
            "\u001b[1m8/8\u001b[0m \u001b[32m━━━━━━━━━━━━━━━━━━━━\u001b[0m\u001b[37m\u001b[0m \u001b[1m82s\u001b[0m 9s/step - accuracy: 1.0000 - loss: 0.0261 - val_accuracy: 1.0000 - val_loss: 0.0080\n",
            "Epoch 47/50\n",
            "\u001b[1m8/8\u001b[0m \u001b[32m━━━━━━━━━━━━━━━━━━━━\u001b[0m\u001b[37m\u001b[0m \u001b[1m202s\u001b[0m 25s/step - accuracy: 0.9825 - loss: 0.0415 - val_accuracy: 0.9922 - val_loss: 0.0172\n",
            "Epoch 48/50\n",
            "\u001b[1m8/8\u001b[0m \u001b[32m━━━━━━━━━━━━━━━━━━━━\u001b[0m\u001b[37m\u001b[0m \u001b[1m51s\u001b[0m 5s/step - accuracy: 1.0000 - loss: 0.0232 - val_accuracy: 0.9922 - val_loss: 0.0163\n",
            "Epoch 49/50\n",
            "\u001b[1m8/8\u001b[0m \u001b[32m━━━━━━━━━━━━━━━━━━━━\u001b[0m\u001b[37m\u001b[0m \u001b[1m203s\u001b[0m 24s/step - accuracy: 0.9959 - loss: 0.0319 - val_accuracy: 1.0000 - val_loss: 0.0061\n",
            "Epoch 50/50\n",
            "\u001b[1m8/8\u001b[0m \u001b[32m━━━━━━━━━━━━━━━━━━━━\u001b[0m\u001b[37m\u001b[0m \u001b[1m83s\u001b[0m 10s/step - accuracy: 1.0000 - loss: 0.0124 - val_accuracy: 1.0000 - val_loss: 0.0064\n"
          ]
        }
      ],
      "source": [
        "# Training the Model\n",
        "train_gen = train_datagen.flow_from_dataframe(\n",
        "    train_df, x_col='file_path', y_col='label', target_size=(height, width), # Corrected column names to match DataFrame\n",
        "    class_mode='categorical', color_mode='rgb', shuffle=True, batch_size=batch_size,\n",
        "    errors='ignore'  # Ignore corrupted images\n",
        ")\n",
        "\n",
        "history = model.fit(\n",
        "    train_gen,\n",
        "    steps_per_epoch=len(train_df) // batch_size,\n",
        "    validation_data=valid_gen,\n",
        "    validation_steps=len(valid_df) // batch_size,\n",
        "    epochs=50\n",
        ")"
      ]
    },
    {
      "cell_type": "code",
      "source": [
        "# Model Evaluation\n",
        "# Evaluate the model on the test dataset\n",
        "test_loss, test_accuracy = model.evaluate(test_gen, steps=len(test_df) // batch_size)\n",
        "print(f'Test Loss: {test_loss:.4f}, Test Accuracy: {test_accuracy:.4f}')"
      ],
      "metadata": {
        "id": "bmwVttLiFW0w",
        "outputId": "aff75982-30bd-4378-80cc-7fb2f3c98920",
        "colab": {
          "base_uri": "https://localhost:8080/"
        }
      },
      "execution_count": 17,
      "outputs": [
        {
          "output_type": "stream",
          "name": "stdout",
          "text": [
            "\u001b[1m7/7\u001b[0m \u001b[32m━━━━━━━━━━━━━━━━━━━━\u001b[0m\u001b[37m\u001b[0m \u001b[1m207s\u001b[0m 30s/step - accuracy: 0.9940 - loss: 0.0086\n",
            "Test Loss: 0.0115, Test Accuracy: 0.9911\n"
          ]
        }
      ]
    },
    {
      "cell_type": "code",
      "source": [
        "# Visualizing Loss Curves\n",
        "import matplotlib.pyplot as plt\n",
        "\n",
        "def tr_plot(tr_data, start_epoch):\n",
        "    #Plot the training and validation data\n",
        "    tacc=tr_data.history['accuracy']\n",
        "    tloss=tr_data.history['loss']\n",
        "    vacc=tr_data.history['val_accuracy']\n",
        "    vloss=tr_data.history['val_loss']\n",
        "    Epoch_count=len(tacc)+ start_epoch\n",
        "    Epochs=[]\n",
        "    for i in range(start_epoch ,Epoch_count):\n",
        "        Epochs.append(i+1)\n",
        "    index_loss=np.argmin(vloss)#  this is the epoch with the lowest validation loss\n",
        "    val_lowest=vloss[index_loss]\n",
        "    index_acc=np.argmax(vacc)\n",
        "    acc_highest=vacc[index_acc]\n",
        "    plt.style.use('fivethirtyeight')\n",
        "    sc_label='best epoch= '+ str(index_loss+1 +start_epoch)\n",
        "    vc_label='best epoch= '+ str(index_acc + 1+ start_epoch)\n",
        "    fig,axes=plt.subplots(nrows=1, ncols=2, figsize=(20,8))\n",
        "    axes[0].plot(Epochs,tloss, 'r', label='Training loss')\n",
        "    axes[0].plot(Epochs,vloss,'g',label='Validation loss' )\n",
        "    # Added a value for the 's' argument (marker size)\n",
        "    axes[0].scatter(index_loss+1 +start_epoch,val_lowest, s=100, c='red', label=sc_label)"
      ],
      "metadata": {
        "id": "V1Sh-7Cnh6W1"
      },
      "execution_count": 21,
      "outputs": []
    },
    {
      "cell_type": "code",
      "source": [
        "plt.figure(figsize=(12, 5))\n",
        "plt.subplot(1, 2, 1)\n",
        "plt.plot(history.history['loss'], label='Train Loss')\n",
        "plt.plot(history.history['val_loss'], label='Validation Loss')\n",
        "plt.title('Loss Curves')\n",
        "plt.xlabel('Epochs')\n",
        "plt.ylabel('Loss')\n",
        "plt.legend()\n",
        "\n",
        "plt.subplot(1, 2, 2)\n",
        "plt.plot(history.history['accuracy'], label='Train Accuracy')\n",
        "plt.plot(history.history['val_accuracy'], label='Validation Accuracy')\n",
        "plt.title('Accuracy Curves')\n",
        "plt.xlabel('Epochs')\n",
        "plt.ylabel('Accuracy')\n",
        "plt.legend()\n",
        "\n",
        "plt.show()"
      ],
      "metadata": {
        "id": "K6nkDymViy7Q",
        "outputId": "62cbbd5e-aaff-4770-ea35-fb6c30353156",
        "colab": {
          "base_uri": "https://localhost:8080/",
          "height": 487
        }
      },
      "execution_count": 22,
      "outputs": [
        {
          "output_type": "display_data",
          "data": {
            "text/plain": [
              "<Figure size 1200x500 with 2 Axes>"
            ],
            "image/png": "[encoded data removed]"
          },
          "metadata": {}
        }
      ]
    },
    {
      "cell_type": "code",
      "execution_count": 23,
      "metadata": {
        "id": "Zli1CJBtG_c8",
        "colab": {
          "base_uri": "https://localhost:8080/"
        },
        "outputId": "18a09317-5382-492c-ad31-e7f59b74362a"
      },
      "outputs": [
        {
          "output_type": "stream",
          "name": "stdout",
          "text": [
            "\u001b[1m7/7\u001b[0m \u001b[32m━━━━━━━━━━━━━━━━━━━━\u001b[0m\u001b[37m\u001b[0m \u001b[1m136s\u001b[0m 18s/step\n"
          ]
        }
      ],
      "source": [
        "# Making Predictions on the Test Data\n",
        "predictions = model.predict(test_gen, steps=len(test_df) // batch_size)\n",
        "predicted_classes = np.argmax(predictions, axis=1)\n",
        "true_classes = test_gen.classes"
      ]
    },
    {
      "cell_type": "code",
      "execution_count": 25,
      "metadata": {
        "id": "oIqBbmmLG_Z_",
        "colab": {
          "base_uri": "https://localhost:8080/"
        },
        "outputId": "0ce86d7f-93d9-4b3b-f400-b5476c187fd7"
      },
      "outputs": [
        {
          "output_type": "stream",
          "name": "stdout",
          "text": [
            "\u001b[1m8/8\u001b[0m \u001b[32m━━━━━━━━━━━━━━━━━━━━\u001b[0m\u001b[37m\u001b[0m \u001b[1m142s\u001b[0m 17s/step\n",
            "\u001b[1m8/8\u001b[0m \u001b[32m━━━━━━━━━━━━━━━━━━━━\u001b[0m\u001b[37m\u001b[0m \u001b[1m148s\u001b[0m 17s/step - accuracy: 0.9938 - loss: 0.0088\n",
            "Test Loss: 0.0109, Test Accuracy: 0.9916\n"
          ]
        }
      ],
      "source": [
        "predictions = model.predict(test_gen)  # Remove steps argument\n",
        "predicted_classes = np.argmax(predictions, axis=1)\n",
        "true_classes = test_gen.classes\n",
        "\n",
        "# Model Evaluation\n",
        "# Evaluate the model on the test dataset\n",
        "test_loss, test_accuracy = model.evaluate(test_gen)  # Remove steps argument\n",
        "print(f'Test Loss: {test_loss:.4f}, Test Accuracy: {test_accuracy:.4f}')"
      ]
    },
    {
      "cell_type": "code",
      "execution_count": 26,
      "metadata": {
        "id": "bE6lw7tmG_Ug",
        "colab": {
          "base_uri": "https://localhost:8080/",
          "height": 641
        },
        "outputId": "bd5bc92a-ac50-4b8d-ab2e-113a5ae4041a"
      },
      "outputs": [
        {
          "output_type": "display_data",
          "data": {
            "text/plain": [
              "<Figure size 1000x700 with 2 Axes>"
            ],
            "image/png": "[encoded data removed]"
          },
          "metadata": {}
        }
      ],
      "source": [
        "# Confusion Matrix\n",
        "conf_matrix = confusion_matrix(true_classes, predicted_classes)\n",
        "\n",
        "plt.figure(figsize=(10, 7))\n",
        "sns.heatmap(conf_matrix, annot=True, fmt='d', cmap='Blues', xticklabels=list(test_gen.class_indices.keys()), yticklabels=list(test_gen.class_indices.keys()))\n",
        "plt.ylabel('Actual')\n",
        "plt.xlabel('Predicted')\n",
        "plt.title('Confusion Matrix')\n",
        "plt.show()"
      ]
    },
    {
      "cell_type": "code",
      "execution_count": 27,
      "metadata": {
        "id": "Ol-SUfeLG_RX",
        "colab": {
          "base_uri": "https://localhost:8080/"
        },
        "outputId": "cebe9b47-b94d-4867-d9c7-48e92f8e8904"
      },
      "outputs": [
        {
          "output_type": "stream",
          "name": "stdout",
          "text": [
            "              precision    recall  f1-score   support\n",
            "\n",
            "           0       1.00      0.99      1.00       131\n",
            "           1       0.99      0.98      0.99       125\n",
            "           2       0.97      0.99      0.98       114\n",
            "           3       1.00      1.00      1.00       106\n",
            "\n",
            "    accuracy                           0.99       476\n",
            "   macro avg       0.99      0.99      0.99       476\n",
            "weighted avg       0.99      0.99      0.99       476\n",
            "\n"
          ]
        }
      ],
      "source": [
        "# Classification Report\n",
        "report = classification_report(true_classes, predicted_classes, target_names=list(test_gen.class_indices.keys()))\n",
        "print(report)"
      ]
    },
    {
      "cell_type": "code",
      "execution_count": 28,
      "metadata": {
        "id": "wNo0_zGXG_NX"
      },
      "outputs": [],
      "source": [
        "# Grad-CAM Visualization\n",
        "import cv2\n",
        "\n",
        "def get_gradcam(model, img, layer_name):\n",
        "    \"\"\"\n",
        "    Generates a Grad-CAM heatmap for a given image and model.\n",
        "\n",
        "    Args:\n",
        "        model: The trained model.\n",
        "        img: The input image.\n",
        "        layer_name: The name of the convolutional layer to visualize.\n",
        "\n",
        "    Returns:\n",
        "        Heatmap overlayed on the image.\n",
        "    \"\"\"\n",
        "    # Preprocess the image\n",
        "    img = np.expand_dims(img, axis=0)  # Add batch dimension\n",
        "    img = img / 255.0  # Rescale\n",
        "    preds = model.predict(img)  # Make prediction to define model output\n",
        "    class_idx = np.argmax(preds[0])\n",
        "\n",
        "    # Get the gradient of the top predicted class\n",
        "    # Get the layer to visualize from the VGG16 model (base model)\n",
        "    vgg16_model = model.get_layer('vgg16')\n",
        "    grad_model = tf.keras.models.Model(\n",
        "        inputs=model.inputs,  # Use the inputs of the main model\n",
        "        # Instead of model.output, use vgg16_model.output\n",
        "        # Correctly access the layer output and the model's final output\n",
        "        outputs=[vgg16_model.get_layer(layer_name).output, model.output]\n",
        "    )\n",
        "\n",
        "    with tf.GradientTape() as tape:\n",
        "        conv_outputs, predictions = grad_model(img)  # Pass the image to the grad_model\n",
        "        loss = predictions[:, class_idx]\n",
        "\n",
        "    # Compute gradients\n",
        "    grads = tape.gradient(loss, conv_outputs)[0]\n",
        "    pooled_grads = tf.reduce_mean(grads, axis=(0, 1))\n",
        "\n",
        "    # Get the output of the last convolutional layer\n",
        "    conv_outputs = conv_outputs[0]\n",
        "    heatmap = conv_outputs @ pooled_grads[..., tf.newaxis]\n",
        "    heatmap = tf.squeeze(heatmap)\n",
        "\n",
        "    # Normalize the heatmap\n",
        "    heatmap = tf.maximum(heatmap, 0) / tf.reduce_max(heatmap)\n",
        "\n",
        "    return heatmap.numpy()\n"
      ]
    }
  ],
  "metadata": {
    "colab": {
      "provenance": [],
      "mount_file_id": "17baWkT6e42FCUfXU_wNjlj2UNm_5jy-0",
      "authorship_tag": "ABX9TyOTyoeYm60mfnL5WdSCieki",
      "include_colab_link": true
    },
    "kernelspec": {
      "display_name": "Python 3",
      "name": "python3"
    },
    "language_info": {
      "name": "python"
    }
  },
  "nbformat": 4,
  "nbformat_minor": 0
}